{
 "cells": [
  {
   "cell_type": "code",
   "execution_count": 15,
   "metadata": {
    "collapsed": false
   },
   "outputs": [
    {
     "ename": "AttributeError",
     "evalue": "module '__main__' has no attribute '__file__'",
     "output_type": "error",
     "traceback": [
      "\u001b[1;31m---------------------------------------------------------------------------\u001b[0m",
      "\u001b[1;31mAttributeError\u001b[0m                            Traceback (most recent call last)",
      "\u001b[1;32m<ipython-input-15-dcd7af581886>\u001b[0m in \u001b[0;36m<module>\u001b[1;34m()\u001b[0m\n\u001b[0;32m     94\u001b[0m \u001b[1;33m\u001b[0m\u001b[0m\n\u001b[0;32m     95\u001b[0m \u001b[0mapp\u001b[0m \u001b[1;33m=\u001b[0m \u001b[0mVHIApp\u001b[0m\u001b[1;33m(\u001b[0m\u001b[1;33m)\u001b[0m\u001b[1;33m\u001b[0m\u001b[0m\n\u001b[1;32m---> 96\u001b[1;33m \u001b[0mapp\u001b[0m\u001b[1;33m.\u001b[0m\u001b[0mlaunch\u001b[0m\u001b[1;33m(\u001b[0m\u001b[1;33m)\u001b[0m\u001b[1;33m\u001b[0m\u001b[0m\n\u001b[0m",
      "\u001b[1;32m/home/kostelvan/anaconda3/lib/python3.5/site-packages/spyre/server.py\u001b[0m in \u001b[0;36mlaunch\u001b[1;34m(self, host, port)\u001b[0m\n\u001b[0;32m    439\u001b[0m \u001b[1;33m\u001b[0m\u001b[0m\n\u001b[0;32m    440\u001b[0m         \u001b[1;32mdef\u001b[0m \u001b[0mlaunch\u001b[0m\u001b[1;33m(\u001b[0m\u001b[0mself\u001b[0m\u001b[1;33m,\u001b[0m\u001b[0mhost\u001b[0m\u001b[1;33m=\u001b[0m\u001b[1;34m\"local\"\u001b[0m\u001b[1;33m,\u001b[0m\u001b[0mport\u001b[0m\u001b[1;33m=\u001b[0m\u001b[1;36m8080\u001b[0m\u001b[1;33m)\u001b[0m\u001b[1;33m:\u001b[0m\u001b[1;33m\u001b[0m\u001b[0m\n\u001b[1;32m--> 441\u001b[1;33m                 \u001b[0mwebapp\u001b[0m \u001b[1;33m=\u001b[0m \u001b[0mself\u001b[0m\u001b[1;33m.\u001b[0m\u001b[0mgetRoot\u001b[0m\u001b[1;33m(\u001b[0m\u001b[1;33m)\u001b[0m\u001b[1;33m\u001b[0m\u001b[0m\n\u001b[0m\u001b[0;32m    442\u001b[0m                 \u001b[1;32mif\u001b[0m \u001b[0mhost\u001b[0m\u001b[1;33m!=\u001b[0m\u001b[1;34m\"local\"\u001b[0m\u001b[1;33m:\u001b[0m\u001b[1;33m\u001b[0m\u001b[0m\n\u001b[0;32m    443\u001b[0m                         \u001b[0mcherrypy\u001b[0m\u001b[1;33m.\u001b[0m\u001b[0mserver\u001b[0m\u001b[1;33m.\u001b[0m\u001b[0msocket_host\u001b[0m \u001b[1;33m=\u001b[0m \u001b[1;34m'0.0.0.0'\u001b[0m\u001b[1;33m\u001b[0m\u001b[0m\n",
      "\u001b[1;32m/home/kostelvan/anaconda3/lib/python3.5/site-packages/spyre/server.py\u001b[0m in \u001b[0;36mgetRoot\u001b[1;34m(self)\u001b[0m\n\u001b[0;32m    476\u001b[0m                         \u001b[0mgetDownloadFunction\u001b[0m\u001b[1;33m=\u001b[0m\u001b[0mself\u001b[0m\u001b[1;33m.\u001b[0m\u001b[0mgetDownload\u001b[0m\u001b[1;33m,\u001b[0m\u001b[1;33m\u001b[0m\u001b[0m\n\u001b[0;32m    477\u001b[0m                         \u001b[0mnoOutputFunction\u001b[0m\u001b[1;33m=\u001b[0m\u001b[0mself\u001b[0m\u001b[1;33m.\u001b[0m\u001b[0mnoOutput\u001b[0m\u001b[1;33m,\u001b[0m\u001b[1;33m\u001b[0m\u001b[0m\n\u001b[1;32m--> 478\u001b[1;33m \t\t\tstoreUploadFunction=self.storeUpload)\n\u001b[0m\u001b[0;32m    479\u001b[0m                 \u001b[1;32mreturn\u001b[0m \u001b[0mwebapp\u001b[0m\u001b[1;33m\u001b[0m\u001b[0m\n\u001b[0;32m    480\u001b[0m \u001b[1;32mclass\u001b[0m \u001b[0mSite\u001b[0m\u001b[1;33m(\u001b[0m\u001b[0mobject\u001b[0m\u001b[1;33m)\u001b[0m\u001b[1;33m:\u001b[0m\u001b[1;33m\u001b[0m\u001b[0m\n",
      "\u001b[1;32m/home/kostelvan/anaconda3/lib/python3.5/site-packages/spyre/server.py\u001b[0m in \u001b[0;36m__init__\u001b[1;34m(self, templateVars, title, inputs, outputs, controls, tabs, spinnerFile, getJsonDataFunction, getDataFunction, getTableFunction, getPlotFunction, getImageFunction, getD3Function, getCustomCSSFunction, getCustomJSFunction, getCustomHeadFunction, getHTMLFunction, getDownloadFunction, noOutputFunction, storeUploadFunction)\u001b[0m\n\u001b[0;32m    123\u001b[0m                 \u001b[0mself\u001b[0m\u001b[1;33m.\u001b[0m\u001b[0mtemplateVars\u001b[0m\u001b[1;33m[\u001b[0m\u001b[1;34m'custom_head'\u001b[0m\u001b[1;33m]\u001b[0m \u001b[1;33m=\u001b[0m \u001b[0mcustom_head\u001b[0m\u001b[1;33m\u001b[0m\u001b[0m\n\u001b[0;32m    124\u001b[0m \u001b[1;33m\u001b[0m\u001b[0m\n\u001b[1;32m--> 125\u001b[1;33m                 \u001b[0mv\u001b[0m \u001b[1;33m=\u001b[0m \u001b[0mView\u001b[0m\u001b[1;33m.\u001b[0m\u001b[0mView\u001b[0m\u001b[1;33m(\u001b[0m\u001b[1;33m)\u001b[0m\u001b[1;33m\u001b[0m\u001b[0m\n\u001b[0m\u001b[0;32m    126\u001b[0m                 \u001b[0mself\u001b[0m\u001b[1;33m.\u001b[0m\u001b[0mtemplateVars\u001b[0m\u001b[1;33m[\u001b[0m\u001b[1;34m'document_ready_js'\u001b[0m\u001b[1;33m]\u001b[0m \u001b[1;33m=\u001b[0m \u001b[1;34m\"\"\u001b[0m\u001b[1;33m\u001b[0m\u001b[0m\n\u001b[0;32m    127\u001b[0m                 \u001b[0mself\u001b[0m\u001b[1;33m.\u001b[0m\u001b[0mtemplateVars\u001b[0m\u001b[1;33m[\u001b[0m\u001b[1;34m'js'\u001b[0m\u001b[1;33m]\u001b[0m \u001b[1;33m=\u001b[0m \u001b[0mv\u001b[0m\u001b[1;33m.\u001b[0m\u001b[0mgetJS\u001b[0m\u001b[1;33m(\u001b[0m\u001b[1;33m)\u001b[0m\u001b[1;33m\u001b[0m\u001b[0m\n",
      "\u001b[1;32m/home/kostelvan/anaconda3/lib/python3.5/site-packages/spyre/View.py\u001b[0m in \u001b[0;36m__init__\u001b[1;34m(self)\u001b[0m\n\u001b[0;32m     19\u001b[0m                 \u001b[0mself\u001b[0m\u001b[1;33m.\u001b[0m\u001b[0mJS_PATH\u001b[0m \u001b[1;33m=\u001b[0m \u001b[0mos\u001b[0m\u001b[1;33m.\u001b[0m\u001b[0mpath\u001b[0m\u001b[1;33m.\u001b[0m\u001b[0mjoin\u001b[0m\u001b[1;33m(\u001b[0m\u001b[0mself\u001b[0m\u001b[1;33m.\u001b[0m\u001b[0mROOT_DIR\u001b[0m\u001b[1;33m,\u001b[0m \u001b[1;34m'public'\u001b[0m\u001b[1;33m,\u001b[0m \u001b[1;34m'js'\u001b[0m\u001b[1;33m)\u001b[0m\u001b[1;33m\u001b[0m\u001b[0m\n\u001b[0;32m     20\u001b[0m                 \u001b[0mself\u001b[0m\u001b[1;33m.\u001b[0m\u001b[0mCSS_PATH\u001b[0m \u001b[1;33m=\u001b[0m \u001b[0mos\u001b[0m\u001b[1;33m.\u001b[0m\u001b[0mpath\u001b[0m\u001b[1;33m.\u001b[0m\u001b[0mjoin\u001b[0m\u001b[1;33m(\u001b[0m\u001b[0mself\u001b[0m\u001b[1;33m.\u001b[0m\u001b[0mROOT_DIR\u001b[0m\u001b[1;33m,\u001b[0m \u001b[1;34m'public'\u001b[0m\u001b[1;33m,\u001b[0m \u001b[1;34m'css'\u001b[0m\u001b[1;33m)\u001b[0m\u001b[1;33m\u001b[0m\u001b[0m\n\u001b[1;32m---> 21\u001b[1;33m                 \u001b[0mself\u001b[0m\u001b[1;33m.\u001b[0m\u001b[0mAPP_PATH\u001b[0m \u001b[1;33m=\u001b[0m \u001b[0mos\u001b[0m\u001b[1;33m.\u001b[0m\u001b[0mpath\u001b[0m\u001b[1;33m.\u001b[0m\u001b[0mdirname\u001b[0m\u001b[1;33m(\u001b[0m\u001b[0mos\u001b[0m\u001b[1;33m.\u001b[0m\u001b[0mpath\u001b[0m\u001b[1;33m.\u001b[0m\u001b[0mrealpath\u001b[0m\u001b[1;33m(\u001b[0m\u001b[0m__main__\u001b[0m\u001b[1;33m.\u001b[0m\u001b[0m__file__\u001b[0m\u001b[1;33m)\u001b[0m\u001b[1;33m)\u001b[0m\u001b[1;33m\u001b[0m\u001b[0m\n\u001b[0m\u001b[0;32m     22\u001b[0m \u001b[1;33m\u001b[0m\u001b[0m\n\u001b[0;32m     23\u001b[0m         \u001b[1;32mdef\u001b[0m \u001b[0mgetHTML\u001b[0m\u001b[1;33m(\u001b[0m\u001b[0mself\u001b[0m\u001b[1;33m)\u001b[0m\u001b[1;33m:\u001b[0m\u001b[1;33m\u001b[0m\u001b[0m\n",
      "\u001b[1;31mAttributeError\u001b[0m: module '__main__' has no attribute '__file__'"
     ]
    }
   ],
   "source": [
    "from spyre import server\n",
    "import os\n",
    "import pandas\n",
    "\n",
    "\n",
    "class VHIApp(server.App):\n",
    "    title = \"VHI App\"\n",
    "\n",
    "    inputs = [{\"type\": 'dropdown', \"label\": 'Часовий ряд', \"value\": 'VHI',\n",
    "               \"options\": [{\"label\": \"VHI\", \"value\": \"VHI\"},\n",
    "                           {\"label\": \"VCI\", \"value\": \"VCI\"},\n",
    "                           {\"label\": \"TCI\", \"value\": \"TCI\"}], \"key\": 'number'},\n",
    "\n",
    "              {\"type\": 'dropdown', \"label\": 'Область', \"value\": 'Київська',\n",
    "               \"options\": [{\"label\": \"Вінницька\", \"value\": \"Вінницька\"},\n",
    "                           {\"label\": \"Волинська\", \"value\": \"Волинська\"},\n",
    "                           {\"label\": \"Дніпропетровська\", \"value\": \"Дніпропетровська\"},\n",
    "                           {\"label\": \"Донецька\", \"value\": \"Донецька\"},\n",
    "                           {\"label\": \"Житомирська\", \"value\": \"Житомирська\"},\n",
    "                           {\"label\": \"Закарпатська\", \"value\": \"Закарпатська\"},\n",
    "                           {\"label\": \"Запорізька\", \"value\": \"Запорізька\"},\n",
    "                           {\"label\": \"Івано-Франківська\", \"value\": \"Івано-Франківська\"},\n",
    "                           {\"label\": \"Київська\", \"value\": \"Київська\"},\n",
    "                           {\"label\": \"Кіровоградська\", \"value\": \"Кіровоградська\"},\n",
    "                           {\"label\": \"Львівська\", \"value\": \"Львівська\"},\n",
    "                           {\"label\": \"Миколаївська\", \"value\": \"Миколаївська\"},\n",
    "                           {\"label\": \"Одеська\", \"value\": \"Одеська\"},\n",
    "                           {\"label\": \"Полтавська\", \"value\": \"Полтавська\"},\n",
    "                           {\"label\": \"Рівненська\", \"value\": \"Рівненська\"},\n",
    "                           {\"label\": \"Сумська\", \"value\": \"Сумська\"},\n",
    "                           {\"label\": \"Тернопільська\", \"value\": \"Тернопільська\"},\n",
    "                           {\"label\": \"Харківська\", \"value\": \"Харківська\"},\n",
    "                           {\"label\": \"Херсонська\", \"value\": \"Херсонська\"},\n",
    "                           {\"label\": \"Хмельницька\", \"value\": \"Хмельницька\"},\n",
    "                           {\"label\": \"Черкаська\", \"value\": \"Черкаська\"},\n",
    "                           {\"label\": \"Чернівецька\", \"value\": \"Чернівецька\"},\n",
    "                           {\"label\": \"Чернігівська\", \"value\": \"Чернігівська\"},\n",
    "                           {\"label\": \"Республіка Крим\", \"value\": \"Республіка Крим\"}], \"key\": 'region'},\n",
    "\n",
    "              {\"type\": \"slider\", \"label\": 'Товщина лінії', \"key\": \"width\", \"value\": '1',\n",
    "               \"min\": 1, \"max\": 10, \"action_id\": \"width\"},\n",
    "              {\"type\": \"text\", \"label\": 'Рік #1', \"key\": \"year1\", \"value\": '2007'},\n",
    "              {\"type\": \"text\", \"label\": 'Рік #2', \"key\": \"year2\", \"value\": '2008'},\n",
    "              {\"type\": \"text\", \"label\": 'Інтервал тижнів, від', \"key\": \"w1\", \"value\": '1'},\n",
    "              {\"type\": \"text\", \"label\": 'до', \"key\": \"w2\", \"value\": '52'}]\n",
    "\n",
    "    controls = [{\"type\": \"button\", \"label\": \"Побудувати графіки\", \"id\": \"submit_plot\"}]\n",
    "    tabs = [\"Графік1\", \"Графік2\", \"Таблиця1\", \"Таблиця2\"]\n",
    "    outputs = [{\"type\": \"plot\", \"id\": \"plot\", \"control_id\": \"submit_plot\", \"tab\": \"Графік1\"},\n",
    "               {\"type\": \"plot\", \"id\": \"plot1\", \"control_id\": \"submit_plot\", \"tab\": \"Графік2\"},\n",
    "               {\"type\": \"table\", \"id\": \"table\", \"control_id\": \"submit_plot\", \"tab\": \"Таблиця1\", \"on_page_load\": True},\n",
    "               {\"type\": \"table\", \"id\": \"table1\", \"control_id\": \"submit_plot\", \"tab\": \"Таблиця2\", \"on_page_load\": True}]\n",
    "\n",
    "    def table(self, params):\n",
    "        check_params(params)\n",
    "        df = pandas.read_csv(\"/home/kostelvan/Downloads/СРП/Lab2/data.csv\", encoding='utf-8')\n",
    "        df = df.drop('Unnamed: 0', 1)\n",
    "        df = df[(df['region'] == params['region']) & (df['year'] == int(params['year1'])) &\n",
    "                (df['week'] >= int(params['w1'])) & (df['week'] <= int(params['w2']))]\n",
    "        return df\n",
    "\n",
    "    def table1(self, params):\n",
    "        check_params(params)\n",
    "        df = pandas.read_csv(\"/home/kostelvan/Downloads/СРП/Lab2/data.csv\", encoding='utf-8')\n",
    "        df = df.drop('Unnamed: 0', 1)\n",
    "        df = df[(df['region'] == params['region']) & (df['year'] == int(params['year2'])) &\n",
    "                (df['week'] >= int(params['w1'])) & (df['week'] <= int(params['w2']))]\n",
    "        return df\n",
    "\n",
    "    def plot(self, params):\n",
    "        df = self.table(params)\n",
    "        plt = df.plot(x='week', y=params['number'], linewidth=params['width'])\n",
    "        plt.set_title(params['year1'])\n",
    "        return plt.get_figure()\n",
    "\n",
    "    def plot1(self, params):\n",
    "        df = self.table1(params)\n",
    "        plt = df.plot(x='week', y=params['number'], linewidth=params['width'])\n",
    "        plt.set_title(params['year2'])\n",
    "        return plt.get_figure()\n",
    "\n",
    "\n",
    "def check_params(params):\n",
    "    if int(params['year1']) < 1981: params['year1'] = 1981\n",
    "    if int(params['year1']) > 2016: params['year1'] = 2016\n",
    "    if int(params['year2']) < 1981: params['year2'] = 1981\n",
    "    if int(params['year2']) > 2016: params['year2'] = 2016\n",
    "\n",
    "    if int(params['w1']) < 1: params['w1'] = 1\n",
    "    if int(params['w2']) > 52: params['w2'] = 52\n",
    "    if int(params['w1']) > int(params['w2']):\n",
    "        params['w1'] = 1\n",
    "        params['w2'] = 52\n",
    "\n",
    "app = VHIApp()\n",
    "app.launch()\n"
   ]
  },
  {
   "cell_type": "code",
   "execution_count": null,
   "metadata": {
    "collapsed": true
   },
   "outputs": [],
   "source": []
  },
  {
   "cell_type": "code",
   "execution_count": null,
   "metadata": {
    "collapsed": true
   },
   "outputs": [],
   "source": []
  }
 ],
 "metadata": {
  "kernelspec": {
   "display_name": "Python 3",
   "language": "python",
   "name": "python3"
  },
  "language_info": {
   "codemirror_mode": {
    "name": "ipython",
    "version": 3
   },
   "file_extension": ".py",
   "mimetype": "text/x-python",
   "name": "python",
   "nbconvert_exporter": "python",
   "pygments_lexer": "ipython3",
   "version": "3.5.1"
  }
 },
 "nbformat": 4,
 "nbformat_minor": 0
}
